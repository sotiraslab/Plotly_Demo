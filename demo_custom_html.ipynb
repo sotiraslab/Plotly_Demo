{
 "cells": [
  {
   "cell_type": "code",
   "execution_count": 20,
   "id": "e69987ad",
   "metadata": {},
   "outputs": [
    {
     "data": {
      "text/html": [
       "<style type='text/css'>\n",
       ".CodeMirror{\n",
       "    font-size: 28px;\n",
       "}\n",
       "\n",
       "div.output_area pre {\n",
       "    font-size: 20px;\n",
       "}\n",
       "</style>\n"
      ],
      "text/plain": [
       "<IPython.core.display.HTML object>"
      ]
     },
     "metadata": {},
     "output_type": "display_data"
    }
   ],
   "source": [
    "%%html\n",
    "<style type='text/css'>\n",
    ".CodeMirror{\n",
    "    font-size: 28px;\n",
    "}\n",
    "\n",
    "div.output_area pre {\n",
    "    font-size: 20px;\n",
    "}\n",
    "</style>"
   ]
  },
  {
   "cell_type": "code",
   "execution_count": 21,
   "id": "c26bef09",
   "metadata": {},
   "outputs": [],
   "source": [
    "import os\n",
    "import re\n",
    "import numpy as np\n",
    "import pandas as pd\n",
    "from sklearn.metrics import r2_score, mean_absolute_error\n",
    "\n",
    "from plotly.offline import plot\n",
    "import plotly.graph_objs as go\n",
    "\n",
    "from utils import prepare_data\n",
    "\n",
    "join = os.path.join"
   ]
  },
  {
   "cell_type": "code",
   "execution_count": 22,
   "id": "4620d5aa",
   "metadata": {},
   "outputs": [],
   "source": [
    "base_url = \"exp_257\"\n",
    "sample_data_csv = pd.read_csv(join(base_url, \"val_result.csv\"))"
   ]
  },
  {
   "cell_type": "code",
   "execution_count": 23,
   "id": "a31455d7",
   "metadata": {},
   "outputs": [
    {
     "data": {
      "text/html": [
       "<div>\n",
       "<style scoped>\n",
       "    .dataframe tbody tr th:only-of-type {\n",
       "        vertical-align: middle;\n",
       "    }\n",
       "\n",
       "    .dataframe tbody tr th {\n",
       "        vertical-align: top;\n",
       "    }\n",
       "\n",
       "    .dataframe thead th {\n",
       "        text-align: right;\n",
       "    }\n",
       "</style>\n",
       "<table border=\"1\" class=\"dataframe\">\n",
       "  <thead>\n",
       "    <tr style=\"text-align: right;\">\n",
       "      <th></th>\n",
       "      <th>subject_id</th>\n",
       "      <th>seg_id</th>\n",
       "      <th>slices</th>\n",
       "      <th>DSC</th>\n",
       "      <th>Diff_Dice</th>\n",
       "    </tr>\n",
       "  </thead>\n",
       "  <tbody>\n",
       "    <tr>\n",
       "      <th>0</th>\n",
       "      <td>BraTS2021_01201</td>\n",
       "      <td>1927</td>\n",
       "      <td>106_107_108_109_129</td>\n",
       "      <td>0.3907619118690491/0.3384034335613251</td>\n",
       "      <td>0.915888</td>\n",
       "    </tr>\n",
       "    <tr>\n",
       "      <th>1</th>\n",
       "      <td>BraTS2021_01201</td>\n",
       "      <td>1927</td>\n",
       "      <td>106_107_108_109_129</td>\n",
       "      <td>0.3907619118690491/0.3384034335613251</td>\n",
       "      <td>0.915888</td>\n",
       "    </tr>\n",
       "    <tr>\n",
       "      <th>2</th>\n",
       "      <td>BraTS2021_01201</td>\n",
       "      <td>1927</td>\n",
       "      <td>106_107_108_109_129</td>\n",
       "      <td>0.3907619118690491/0.3384034335613251</td>\n",
       "      <td>0.915888</td>\n",
       "    </tr>\n",
       "    <tr>\n",
       "      <th>3</th>\n",
       "      <td>BraTS2021_01201</td>\n",
       "      <td>1927</td>\n",
       "      <td>106_107_108_109_129</td>\n",
       "      <td>0.3907619118690491/0.3384034335613251</td>\n",
       "      <td>0.915888</td>\n",
       "    </tr>\n",
       "    <tr>\n",
       "      <th>4</th>\n",
       "      <td>BraTS2021_01201</td>\n",
       "      <td>1927</td>\n",
       "      <td>106_107_108_109_129</td>\n",
       "      <td>0.3907619118690491/0.3384034335613251</td>\n",
       "      <td>0.915888</td>\n",
       "    </tr>\n",
       "  </tbody>\n",
       "</table>\n",
       "</div>"
      ],
      "text/plain": [
       "        subject_id  seg_id               slices  \\\n",
       "0  BraTS2021_01201    1927  106_107_108_109_129   \n",
       "1  BraTS2021_01201    1927  106_107_108_109_129   \n",
       "2  BraTS2021_01201    1927  106_107_108_109_129   \n",
       "3  BraTS2021_01201    1927  106_107_108_109_129   \n",
       "4  BraTS2021_01201    1927  106_107_108_109_129   \n",
       "\n",
       "                                     DSC  Diff_Dice  \n",
       "0  0.3907619118690491/0.3384034335613251   0.915888  \n",
       "1  0.3907619118690491/0.3384034335613251   0.915888  \n",
       "2  0.3907619118690491/0.3384034335613251   0.915888  \n",
       "3  0.3907619118690491/0.3384034335613251   0.915888  \n",
       "4  0.3907619118690491/0.3384034335613251   0.915888  "
      ]
     },
     "metadata": {},
     "output_type": "display_data"
    }
   ],
   "source": [
    "display(sample_data_csv.head(5))"
   ]
  },
  {
   "cell_type": "code",
   "execution_count": 24,
   "id": "7a2ff4d5",
   "metadata": {},
   "outputs": [],
   "source": [
    "(dice_pred, dice_true), urls = prepare_data(sample_data_csv, base_url)"
   ]
  },
  {
   "cell_type": "markdown",
   "id": "4fd9739c",
   "metadata": {},
   "source": [
    "# url Parse\n",
    "### redict page: template.html\n",
    "### base_url: your base dir to contain your images\n",
    "### sid: subject id\n",
    "### id: image id\n",
    "### slice: slices to visualize \n",
    "### DSC: predicted / true Dice\n",
    "### Diff Dice: error map dice"
   ]
  },
  {
   "cell_type": "code",
   "execution_count": 25,
   "id": "bc8114e5",
   "metadata": {},
   "outputs": [
    {
     "name": "stdout",
     "output_type": "stream",
     "text": [
      "./template.html?base_url=exp_257&sid=BraTS2021_01201&id=1927&slice=106_107_108_109_129&mode=val&Diff_Dice=0.916&DSC=0.391 / 0.338\n"
     ]
    }
   ],
   "source": [
    "print(urls[0])"
   ]
  },
  {
   "cell_type": "code",
   "execution_count": 26,
   "id": "84435e14",
   "metadata": {},
   "outputs": [],
   "source": [
    "mae = mean_absolute_error(dice_pred, dice_true)\n",
    "r2 = r2_score(dice_pred, dice_true)"
   ]
  },
  {
   "cell_type": "code",
   "execution_count": 27,
   "id": "905d09d6",
   "metadata": {},
   "outputs": [],
   "source": [
    "# one-line scatter plot of dice\n",
    "data = [\n",
    "        go.Scatter(\n",
    "                x=dice_pred,\n",
    "                y=dice_true,\n",
    "                mode='markers',\n",
    "                marker=dict(size=14),\n",
    "                name=f\"DSC [MAE={mae:.3f} R^2={r2:.3f}]\",\n",
    "                text=[],\n",
    "                customdata=urls) # pass your custom urls\n",
    "       ]\n",
    "\n",
    "# Plot the diagonal line\n",
    "xx = np.linspace(0, 1, 1000)\n",
    "data.append(\n",
    "        go.Scatter(x=xx, y=xx, mode='lines', \n",
    "                       line=dict(color='firebrick', width=8),\n",
    "                       name='Diagonal')\n",
    "        )"
   ]
  },
  {
   "cell_type": "code",
   "execution_count": 28,
   "id": "3f396d7a",
   "metadata": {},
   "outputs": [],
   "source": [
    "# Build layout\n",
    "layout = go.Layout(\n",
    "        hovermode='closest',\n",
    "        xaxis_title=\"Dice Prediction\",\n",
    "        yaxis_title=\"Dice Ground-Truth\",\n",
    "    )\n",
    "\n",
    "# Build Figure\n",
    "fig = go.Figure(\n",
    "        data=data,\n",
    "        layout=layout,\n",
    "    )"
   ]
  },
  {
   "cell_type": "code",
   "execution_count": 29,
   "id": "ce6df484",
   "metadata": {},
   "outputs": [
    {
     "name": "stdout",
     "output_type": "stream",
     "text": [
      "<div id=93d7cc97-2c03-4c7e-a8ec-ca2a2b1b9448>\n",
      "\n",
      "    <script>\n",
      "    var plot_element = document.getElementById(\"93d7cc97-2c03-4c7e-a8ec-ca2a2b1b9448\");\n",
      "    plot_element.on('plotly_click', function(data){\n",
      "        console.log(data);\n",
      "        var point = data.points[0];\n",
      "        if (point) {\n",
      "            console.log(point.customdata);\n",
      "            window.open(point.customdata);\n",
      "        }\n",
      "    })\n",
      "    </script>\n",
      "    \n"
     ]
    }
   ],
   "source": [
    "# Get HTML representation of plotly.js and this figure\n",
    "# Convert your plot to a html <div> element\n",
    "plot_div = plot(fig, output_type='div', include_plotlyjs=True)\n",
    "\n",
    "# Get id of html div element that looks like\n",
    "# <div id=\"301d22ab-bfba-4621-8f5d-dc4fd855bb33\" ... >\n",
    "res = re.search('<div id=\"([^\"]*)\"', plot_div)\n",
    "div_id = res.groups()[0]\n",
    "print(f\"<div id={div_id}>\")\n",
    "\n",
    "# Build JavaScript callback for handling clicks\n",
    "# and opening the URL in the trace's customdata \n",
    "js_callback = \"\"\"\n",
    "    <script>\n",
    "    var plot_element = document.getElementById(\"{div_id}\");\n",
    "    plot_element.on('plotly_click', function(data){{\n",
    "        console.log(data);\n",
    "        var point = data.points[0];\n",
    "        if (point) {{\n",
    "            console.log(point.customdata);\n",
    "            window.open(point.customdata);\n",
    "        }}\n",
    "    }})\n",
    "    </script>\n",
    "    \"\"\".format(div_id=div_id)\n",
    "print(js_callback)\n",
    "\n",
    "# Build HTML string\n",
    "html_str = \"\"\"\n",
    "    <html>\n",
    "    <body>\n",
    "    {plot_div} # your plot_div element\n",
    "    {js_callback} # your javascript callback function\n",
    "    </body>\n",
    "    </html>\n",
    "    \"\"\".format(plot_div=plot_div, js_callback=js_callback)"
   ]
  },
  {
   "cell_type": "code",
   "execution_count": 30,
   "id": "5ed88458",
   "metadata": {},
   "outputs": [],
   "source": [
    "# Write out HTML file\n",
    "with open(f'demo_custom_html.html', 'w') as f:\n",
    "    f.write(html_str)"
   ]
  },
  {
   "cell_type": "code",
   "execution_count": null,
   "id": "1cc68792",
   "metadata": {},
   "outputs": [],
   "source": []
  }
 ],
 "metadata": {
  "kernelspec": {
   "display_name": "Python 3",
   "language": "python",
   "name": "python3"
  },
  "language_info": {
   "codemirror_mode": {
    "name": "ipython",
    "version": 3
   },
   "file_extension": ".py",
   "mimetype": "text/x-python",
   "name": "python",
   "nbconvert_exporter": "python",
   "pygments_lexer": "ipython3",
   "version": "3.6.10"
  }
 },
 "nbformat": 4,
 "nbformat_minor": 5
}
