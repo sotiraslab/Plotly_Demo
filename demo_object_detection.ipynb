{
 "cells": [
  {
   "cell_type": "code",
   "execution_count": 1,
   "id": "4ad5ef95",
   "metadata": {},
   "outputs": [
    {
     "data": {
      "text/html": [
       "<style type='text/css'>\n",
       ".CodeMirror{\n",
       "    font-size: 26px;\n",
       "}\n",
       "\n",
       "div.output_area pre {\n",
       "    font-size: 20px;\n",
       "}\n",
       "</style>\n"
      ],
      "text/plain": [
       "<IPython.core.display.HTML object>"
      ]
     },
     "metadata": {},
     "output_type": "display_data"
    }
   ],
   "source": [
    "%%html\n",
    "<style type='text/css'>\n",
    ".CodeMirror{\n",
    "    font-size: 26px;\n",
    "}\n",
    "\n",
    "div.output_area pre {\n",
    "    font-size: 20px;\n",
    "}\n",
    "</style>"
   ]
  },
  {
   "cell_type": "markdown",
   "id": "730f99a8",
   "metadata": {},
   "source": [
    "## Demo Object Detection with Transformer\n",
    "- [Here are more Dash applications](https://github.com/plotly/dash-sample-apps)"
   ]
  },
  {
   "cell_type": "code",
   "execution_count": 2,
   "id": "cbe80f0b",
   "metadata": {},
   "outputs": [
    {
     "name": "stderr",
     "output_type": "stream",
     "text": [
      "/Users/peijieqiu/anaconda3/envs/pytorch/lib/python3.6/site-packages/ipykernel_launcher.py:7: UserWarning: \n",
      "The dash_core_components package is deprecated. Please replace\n",
      "`import dash_core_components as dcc` with `from dash import dcc`\n",
      "  import sys\n",
      "/Users/peijieqiu/anaconda3/envs/pytorch/lib/python3.6/site-packages/ipykernel_launcher.py:8: UserWarning: \n",
      "The dash_html_components package is deprecated. Please replace\n",
      "`import dash_html_components as html` with `from dash import html`\n",
      "  \n",
      "/Users/peijieqiu/anaconda3/envs/pytorch/lib/python3.6/site-packages/tqdm/auto.py:22: TqdmWarning:\n",
      "\n",
      "IProgress not found. Please update jupyter and ipywidgets. See https://ipywidgets.readthedocs.io/en/stable/user_install.html\n",
      "\n",
      "Using cache found in /Users/peijieqiu/.cache/torch/hub/facebookresearch_detr_main\n"
     ]
    }
   ],
   "source": [
    "import base64\n",
    "from io import BytesIO\n",
    "import time\n",
    "\n",
    "import dash\n",
    "from dash.dependencies import Input, Output, State\n",
    "import dash_core_components as dcc\n",
    "import dash_html_components as html\n",
    "from jupyter_dash import JupyterDash\n",
    "import plotly.graph_objects as go\n",
    "from PIL import Image\n",
    "import requests\n",
    "\n",
    "from model import detect, filter_boxes, detr, transform\n",
    "from model import CLASSES, DEVICE"
   ]
  },
  {
   "cell_type": "code",
   "execution_count": 3,
   "id": "81eb2ea5",
   "metadata": {},
   "outputs": [
    {
     "name": "stdout",
     "output_type": "stream",
     "text": [
      "Running on: cpu\n"
     ]
    }
   ],
   "source": [
    "# Dash component wrappers\n",
    "def Row(children=None, **kwargs):\n",
    "    return html.Div(children, className=\"row\", **kwargs)\n",
    "\n",
    "\n",
    "def Column(children=None, width=1, **kwargs):\n",
    "    nb_map = {\n",
    "        1: 'one', 2: 'two', 3: 'three', 4: 'four', 5: 'five', 6: 'six',\n",
    "        7: 'seven', 8: 'eight', 9: 'nine', 10: 'ten', 11: 'eleven', 12: 'twelve'}\n",
    "\n",
    "    return html.Div(children, className=f\"{nb_map[width]} columns\", **kwargs)\n",
    "\n",
    "\n",
    "# plotly.py helper functions\n",
    "def pil_to_b64(im, enc=\"png\"):\n",
    "    io_buf = BytesIO()\n",
    "    im.save(io_buf, format=enc)\n",
    "    encoded = base64.b64encode(io_buf.getvalue()).decode(\"utf-8\")\n",
    "    return f\"data:img/{enc};base64, \" + encoded\n",
    "\n",
    "\n",
    "def pil_to_fig(im, showlegend=False, title=None):\n",
    "    img_width, img_height = im.size\n",
    "    fig = go.Figure()\n",
    "    # This trace is added to help the autoresize logic work.\n",
    "    fig.add_trace(go.Scatter(\n",
    "        x=[img_width * 0.05, img_width * 0.95],\n",
    "        y=[img_height * 0.95, img_height * 0.05],\n",
    "        showlegend=False, mode=\"markers\", marker_opacity=0, \n",
    "        hoverinfo=\"none\", legendgroup='Image'))\n",
    "\n",
    "    fig.add_layout_image(dict(\n",
    "        source=pil_to_b64(im), sizing=\"stretch\", opacity=1, layer=\"below\",\n",
    "        x=0, y=0, xref=\"x\", yref=\"y\", sizex=img_width, sizey=img_height,))\n",
    "\n",
    "    # Adapt axes to the right width and height, lock aspect ratio\n",
    "    fig.update_xaxes(\n",
    "        showgrid=False, visible=False, constrain=\"domain\", range=[0, img_width])\n",
    "    \n",
    "    fig.update_yaxes(\n",
    "        showgrid=False, visible=False,\n",
    "        scaleanchor=\"x\", scaleratio=1,\n",
    "        range=[img_height, 0])\n",
    "    \n",
    "    fig.update_layout(title=title, showlegend=showlegend)\n",
    "\n",
    "    return fig\n",
    "\n",
    "\n",
    "def add_bbox(fig, x0, y0, x1, y1, \n",
    "             showlegend=True, name=None, color=None, \n",
    "             opacity=0.5, group=None, text=None):\n",
    "    fig.add_trace(go.Scatter(\n",
    "        x=[x0, x1, x1, x0, x0],\n",
    "        y=[y0, y0, y1, y1, y0],\n",
    "        mode=\"lines\",\n",
    "        fill=\"toself\",\n",
    "        opacity=opacity,\n",
    "        marker_color=color,\n",
    "        hoveron=\"fills\",\n",
    "        name=name,\n",
    "        hoverlabel_namelength=0,\n",
    "        text=text,\n",
    "        legendgroup=group,\n",
    "        showlegend=showlegend,\n",
    "    ))\n",
    "\n",
    "\n",
    "# colors for visualization\n",
    "COLORS = ['#fe938c','#86e7b8','#f9ebe0','#208aae','#fe4a49', \n",
    "          '#291711', '#5f4b66', '#b98b82', '#87f5fb', '#63326e'] * 50\n",
    "\n",
    "RANDOM_URLS = open('random_urls.txt').read().split('\\n')[:-1]\n",
    "print(\"Running on:\", DEVICE)"
   ]
  },
  {
   "cell_type": "code",
   "execution_count": 4,
   "id": "284610fe",
   "metadata": {},
   "outputs": [],
   "source": [
    "# Start Dash\n",
    "app = JupyterDash(__name__)\n",
    "# server = app.server  # Expose the server variable for deployments\n",
    "\n",
    "app.layout = html.Div(className='container', children=[\n",
    "    Row(html.H1(\"Dash DETR Detection App\")),\n",
    "\n",
    "    Row(html.P(\"Input Image URL:\")),\n",
    "    Row([\n",
    "        Column(width=8, children=[\n",
    "            dcc.Input(id='input-url', style={'width': '100%'}, placeholder='Insert URL...'),\n",
    "        ]),\n",
    "        Column(html.Button(\"Run DETR\", id='button-run', n_clicks=0), width=2),\n",
    "        Column(html.Button(\"Random Image\", id='button-random', n_clicks=0), width=2)\n",
    "    ]),\n",
    "\n",
    "    Row(dcc.Graph(id='model-output', style={\"height\": \"70vh\"})),\n",
    "\n",
    "    Row([\n",
    "        Column(width=7, children=[\n",
    "            html.P('Non-maximum suppression (IoU):'),\n",
    "            Row([\n",
    "                Column(width=3, children=dcc.Checklist(\n",
    "                    id='checklist-nms', \n",
    "                    options=[{'label': 'Enabled', 'value': 'enabled'}],\n",
    "                    value=[])),\n",
    "\n",
    "                Column(width=9, children=dcc.Slider(\n",
    "                    id='slider-iou', min=0, max=1, step=0.05, value=0.5, \n",
    "                    marks={0: '0', 1: '1'})),\n",
    "            ])\n",
    "        ]),\n",
    "        Column(width=5, children=[\n",
    "            html.P('Confidence Threshold:'),\n",
    "            dcc.Slider(\n",
    "                id='slider-confidence', min=0, max=1, step=0.05, value=0.7, \n",
    "                marks={0: '0', 1: '1'})\n",
    "        ])\n",
    "    ])\n",
    "])\n",
    "\n",
    "\n",
    "@app.callback(\n",
    "    [Output('button-run', 'n_clicks'),\n",
    "     Output('input-url', 'value')],\n",
    "    [Input('button-random', 'n_clicks')],\n",
    "    [State('button-run', 'n_clicks')])\n",
    "def randomize(random_n_clicks, run_n_clicks):\n",
    "    return run_n_clicks+1, RANDOM_URLS[random_n_clicks%len(RANDOM_URLS)]\n",
    "\n",
    "\n",
    "@app.callback(\n",
    "    [Output('model-output', 'figure'),\n",
    "     Output('slider-iou', 'disabled')],\n",
    "    [Input('button-run', 'n_clicks'),\n",
    "     Input('input-url', 'n_submit'),\n",
    "     Input('slider-iou', 'value'),\n",
    "     Input('slider-confidence', 'value'),\n",
    "     Input('checklist-nms', 'value')],\n",
    "    [State('input-url', 'value')])\n",
    "def run_model(n_clicks, n_submit, iou, confidence, checklist, url):\n",
    "    apply_nms = 'enabled' in checklist\n",
    "    try:\n",
    "        im = Image.open(requests.get(url, stream=True).raw)\n",
    "    except:\n",
    "        return go.Figure().update_layout(title='Incorrect URL')\n",
    "\n",
    "    tstart = time.time()\n",
    "    \n",
    "    scores, boxes = detect(im, detr, transform, device=DEVICE)\n",
    "    scores, boxes = filter_boxes(scores, boxes, confidence=confidence, iou=iou, apply_nms=apply_nms)\n",
    "    \n",
    "    scores = scores.data.numpy()\n",
    "    boxes = boxes.data.numpy()\n",
    "\n",
    "    tend = time.time()\n",
    "\n",
    "    fig = pil_to_fig(im, showlegend=True, title=f'DETR Predictions ({tend-tstart:.2f}s)')\n",
    "    existing_classes = set()\n",
    "\n",
    "    for i in range(boxes.shape[0]):\n",
    "        class_id = scores[i].argmax()\n",
    "        label = CLASSES[class_id]\n",
    "        confidence = scores[i].max()\n",
    "        x0, y0, x1, y1 = boxes[i]\n",
    "\n",
    "        # only display legend when it's not in the existing classes\n",
    "        showlegend = label not in existing_classes\n",
    "        text = f\"class={label}<br>confidence={confidence:.3f}\"\n",
    "\n",
    "        add_bbox(\n",
    "            fig, x0, y0, x1, y1,\n",
    "            opacity=0.7, group=label, name=label, color=COLORS[class_id], \n",
    "            showlegend=showlegend, text=text,\n",
    "        )\n",
    "\n",
    "        existing_classes.add(label)\n",
    "\n",
    "    return fig, not apply_nms"
   ]
  },
  {
   "cell_type": "code",
   "execution_count": 5,
   "id": "0c4e2e28",
   "metadata": {},
   "outputs": [
    {
     "name": "stdout",
     "output_type": "stream",
     "text": [
      "Dash app running on http://127.0.0.1:8050/\n"
     ]
    },
    {
     "name": "stderr",
     "output_type": "stream",
     "text": [
      "/Users/peijieqiu/.cache/torch/hub/facebookresearch_detr_main/models/position_encoding.py:41: UserWarning:\n",
      "\n",
      "__floordiv__ is deprecated, and its behavior will change in a future version of pytorch. It currently rounds toward 0 (like the 'trunc' function NOT 'floor'). This results in incorrect rounding for negative values. To keep the current behavior, use torch.div(a, b, rounding_mode='trunc'), or for actual floor division, use torch.div(a, b, rounding_mode='floor').\n",
      "\n"
     ]
    }
   ],
   "source": [
    "app.run_server(mode='external')"
   ]
  },
  {
   "cell_type": "code",
   "execution_count": null,
   "id": "37f891aa",
   "metadata": {},
   "outputs": [],
   "source": []
  }
 ],
 "metadata": {
  "kernelspec": {
   "display_name": "Python 3",
   "language": "python",
   "name": "python3"
  },
  "language_info": {
   "codemirror_mode": {
    "name": "ipython",
    "version": 3
   },
   "file_extension": ".py",
   "mimetype": "text/x-python",
   "name": "python",
   "nbconvert_exporter": "python",
   "pygments_lexer": "ipython3",
   "version": "3.6.10"
  }
 },
 "nbformat": 4,
 "nbformat_minor": 5
}
